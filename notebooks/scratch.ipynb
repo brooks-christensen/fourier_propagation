{
 "cells": [
  {
   "cell_type": "code",
   "execution_count": 13,
   "id": "bb8162d9",
   "metadata": {},
   "outputs": [],
   "source": [
    "%load_ext autoreload\n",
    "%autoreload 2"
   ]
  },
  {
   "cell_type": "code",
   "execution_count": 18,
   "id": "726d4179",
   "metadata": {},
   "outputs": [],
   "source": [
    "# from ..src.fourier_propagation.propagation1d import fresnel_propagate_fft_1d\n",
    "import numpy as np\n",
    "\n",
    "import sys\n",
    "import pathlib\n",
    "# if your notebook is at the repo root:\n",
    "sys.path.insert(0, str(pathlib.Path.cwd().parent / \"src\"))\n",
    "\n",
    "# if your notebook lives in repo/examples/, use:\n",
    "# sys.path.insert(0, str(pathlib.Path.cwd().parent / \"src\"))\n",
    "\n",
    "from fourier_propagation.propagation1d import fresnel_propagate_fft_1d\n",
    "\n",
    "Nx = 1024\n",
    "aperture_width = 10\n",
    "\n",
    "U0 = np.array([0]*Nx)\n",
    "U0[Nx // 2 - aperture_width:Nx // 2 + aperture_width] = 1\n",
    "\n",
    "dx = 2.5e-7\n",
    "lam = 5e-7\n",
    "\n",
    "output = fresnel_propagate_fft_1d(U0, dx, lam, z=0)"
   ]
  },
  {
   "cell_type": "code",
   "execution_count": 19,
   "id": "b753ada4",
   "metadata": {},
   "outputs": [
    {
     "data": {
      "image/png": "[encoded data removed]",
      "text/plain": [
       "<Figure size 640x480 with 1 Axes>"
      ]
     },
     "metadata": {},
     "output_type": "display_data"
    }
   ],
   "source": [
    "import matplotlib.pyplot as plt\n",
    "\n",
    "plt.plot(output[Nx//2-aperture_width-10:Nx//2+aperture_width+10])\n",
    "plt.show()"
   ]
  },
  {
   "cell_type": "code",
   "execution_count": 20,
   "id": "66829382",
   "metadata": {},
   "outputs": [
    {
     "name": "stdout",
     "output_type": "stream",
     "text": [
      "True\n"
     ]
    }
   ],
   "source": [
    "import numpy as np\n",
    "from fourier_propagation.propagation1d import fresnel_propagate_fft_1d\n",
    "\n",
    "Nx = 1024\n",
    "half_width_px = 10            # half-width in SAMPLES (not meters here)\n",
    "U0 = np.zeros(Nx, dtype=complex)\n",
    "mid = Nx // 2\n",
    "U0[mid - half_width_px : mid + half_width_px] = 1.0\n",
    "\n",
    "dx  = 2.5e-7                  # 0.25 µm\n",
    "lam = 5.0e-7                  # 0.5 µm\n",
    "\n",
    "U1 = fresnel_propagate_fft_1d(U0, dx, lam, z=0, pad_factor=1)\n",
    "print(np.allclose(U1, U0))    # should be True (or very close)\n"
   ]
  },
  {
   "cell_type": "code",
   "execution_count": null,
   "id": "1c0106c8",
   "metadata": {},
   "outputs": [],
   "source": []
  }
 ],
 "metadata": {
  "kernelspec": {
   "display_name": ".venv",
   "language": "python",
   "name": "python3"
  },
  "language_info": {
   "codemirror_mode": {
    "name": "ipython",
    "version": 3
   },
   "file_extension": ".py",
   "mimetype": "text/x-python",
   "name": "python",
   "nbconvert_exporter": "python",
   "pygments_lexer": "ipython3",
   "version": "3.10.12"
  }
 },
 "nbformat": 4,
 "nbformat_minor": 5
}
